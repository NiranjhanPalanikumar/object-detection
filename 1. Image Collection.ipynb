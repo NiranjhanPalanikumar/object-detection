{
 "cells": [
  {
   "cell_type": "markdown",
   "metadata": {},
   "source": [
    "# 1. Import Dependencies"
   ]
  },
  {
   "cell_type": "code",
   "execution_count": 1,
   "metadata": {},
   "outputs": [
    {
     "name": "stdout",
     "output_type": "stream",
     "text": [
      "Requirement already satisfied: opencv-python in e:\\studies\\projects\\object detection\\tfodcourse-main\\tfod\\lib\\site-packages (4.6.0.66)\n",
      "Requirement already satisfied: numpy>=1.13.3 in e:\\studies\\projects\\object detection\\tfodcourse-main\\tfod\\lib\\site-packages (from opencv-python) (1.19.5)\n"
     ]
    }
   ],
   "source": [
    "!pip install opencv-python"
   ]
  },
  {
   "cell_type": "code",
   "execution_count": 2,
   "metadata": {},
   "outputs": [
    {
     "name": "stdout",
     "output_type": "stream",
     "text": [
      "3.6.8\n"
     ]
    }
   ],
   "source": [
    "from platform import python_version\n",
    "print(python_version())"
   ]
  },
  {
   "cell_type": "code",
   "execution_count": 3,
   "metadata": {},
   "outputs": [],
   "source": [
    "# Import opencv\n",
    "import cv2 \n",
    "\n",
    "# Import uuid\n",
    "import uuid\n",
    "\n",
    "# Import Operating System\n",
    "import os\n",
    "\n",
    "# Import time\n",
    "import time"
   ]
  },
  {
   "cell_type": "markdown",
   "metadata": {},
   "source": [
    "# 2. Define Images to Collect"
   ]
  },
  {
   "cell_type": "code",
   "execution_count": 4,
   "metadata": {},
   "outputs": [],
   "source": [
    "labels = ['thumbsup', 'thumbsdown', 'thankyou', 'livelong']\n",
    "number_imgs = 5"
   ]
  },
  {
   "cell_type": "code",
   "execution_count": 5,
   "metadata": {},
   "outputs": [
    {
     "data": {
      "text/plain": [
       "['thumbsup', 'thumbsdown', 'thankyou', 'livelong']"
      ]
     },
     "execution_count": 5,
     "metadata": {},
     "output_type": "execute_result"
    }
   ],
   "source": [
    "labels"
   ]
  },
  {
   "cell_type": "code",
   "execution_count": 6,
   "metadata": {},
   "outputs": [
    {
     "data": {
      "text/plain": [
       "list"
      ]
     },
     "execution_count": 6,
     "metadata": {},
     "output_type": "execute_result"
    }
   ],
   "source": [
    "type(labels)"
   ]
  },
  {
   "cell_type": "markdown",
   "metadata": {},
   "source": [
    "# 3. Setup Folders "
   ]
  },
  {
   "cell_type": "code",
   "execution_count": 7,
   "metadata": {},
   "outputs": [],
   "source": [
    "IMAGES_PATH = os.path.join('Tensorflow', 'workspace', 'images', 'collectedimages')"
   ]
  },
  {
   "cell_type": "code",
   "execution_count": 8,
   "metadata": {},
   "outputs": [
    {
     "data": {
      "text/plain": [
       "'Tensorflow\\\\workspace\\\\images\\\\collectedimages'"
      ]
     },
     "execution_count": 8,
     "metadata": {},
     "output_type": "execute_result"
    }
   ],
   "source": [
    "IMAGES_PATH"
   ]
  },
  {
   "cell_type": "code",
   "execution_count": 9,
   "metadata": {},
   "outputs": [
    {
     "name": "stdout",
     "output_type": "stream",
     "text": [
      "Tensorflow\\workspace\\images\\collectedimages\n"
     ]
    }
   ],
   "source": [
    "print(IMAGES_PATH)"
   ]
  },
  {
   "cell_type": "markdown",
   "metadata": {},
   "source": [
    "# Making the directories"
   ]
  },
  {
   "cell_type": "code",
   "execution_count": 11,
   "metadata": {},
   "outputs": [
    {
     "data": {
      "text/plain": [
       "'nt'"
      ]
     },
     "execution_count": 11,
     "metadata": {},
     "output_type": "execute_result"
    }
   ],
   "source": [
    "os.name #returns the os type working on"
   ]
  },
  {
   "cell_type": "code",
   "execution_count": 12,
   "metadata": {},
   "outputs": [],
   "source": [
    "if not os.path.exists(IMAGES_PATH):\n",
    "    if os.name == 'posix':\n",
    "        !mkdir -p {IMAGES_PATH}\n",
    "    if os.name == 'nt':\n",
    "         !mkdir {IMAGES_PATH}\n",
    "for label in labels:\n",
    "    path = os.path.join(IMAGES_PATH, label)\n",
    "    if not os.path.exists(path):\n",
    "        !mkdir {path}"
   ]
  },
  {
   "cell_type": "markdown",
   "metadata": {},
   "source": [
    "# 4. Capture Images"
   ]
  },
  {
   "cell_type": "code",
   "execution_count": 14,
   "metadata": {},
   "outputs": [
    {
     "name": "stdout",
     "output_type": "stream",
     "text": [
      "Collecting images for thumbsup\n",
      "Collecting image 0\n",
      "Collecting image 1\n",
      "Collecting image 2\n",
      "Collecting image 3\n",
      "Collecting image 4\n",
      "Collecting images for thumbsdown\n",
      "Collecting image 0\n",
      "Collecting image 1\n",
      "Collecting image 2\n",
      "Collecting image 3\n",
      "Collecting image 4\n",
      "Collecting images for thankyou\n",
      "Collecting image 0\n",
      "Collecting image 1\n",
      "Collecting image 2\n",
      "Collecting image 3\n",
      "Collecting image 4\n",
      "Collecting images for livelong\n",
      "Collecting image 0\n",
      "Collecting image 1\n",
      "Collecting image 2\n",
      "Collecting image 3\n",
      "Collecting image 4\n"
     ]
    }
   ],
   "source": [
    "for label in labels:\n",
    "    cap = cv2.VideoCapture(0)\n",
    "    print('Collecting images for {}'.format(label))\n",
    "    time.sleep(5)\n",
    "    for imgnum in range(number_imgs):\n",
    "        print('Collecting image {}'.format(imgnum))\n",
    "        ret, frame = cap.read()\n",
    "        imgname = os.path.join(IMAGES_PATH,label,label+'.'+'{}.jpg'.format(str(uuid.uuid1())))\n",
    "        cv2.imwrite(imgname, frame)\n",
    "        cv2.imshow('frame', frame)\n",
    "        time.sleep(2)\n",
    "\n",
    "        if cv2.waitKey(1) & 0xFF == ord('q'):\n",
    "            break\n",
    "cap.release()\n",
    "cv2.destroyAllWindows()"
   ]
  },
  {
   "cell_type": "markdown",
   "metadata": {},
   "source": [
    "# 5. Image Labelling"
   ]
  },
  {
   "cell_type": "code",
   "execution_count": 15,
   "metadata": {},
   "outputs": [
    {
     "name": "stdout",
     "output_type": "stream",
     "text": [
      "Package          Version\n",
      "---------------- --------\n",
      "backcall         0.2.0\n",
      "colorama         0.4.5\n",
      "decorator        5.1.1\n",
      "entrypoints      0.4\n",
      "ipykernel        5.5.6\n",
      "ipython          7.16.3\n",
      "ipython-genutils 0.2.0\n",
      "jedi             0.17.2\n",
      "jupyter-client   7.1.2\n",
      "jupyter-core     4.9.2\n",
      "nest-asyncio     1.5.5\n",
      "numpy            1.19.5\n",
      "opencv-python    4.6.0.66\n",
      "parso            0.7.1\n",
      "pickleshare      0.7.5\n",
      "pip              21.3.1\n",
      "prompt-toolkit   3.0.30\n",
      "Pygments         2.12.0\n",
      "python-dateutil  2.8.2\n",
      "pywin32          304\n",
      "pyzmq            23.2.0\n",
      "setuptools       40.6.2\n",
      "six              1.16.0\n",
      "tornado          6.1\n",
      "traitlets        4.3.3\n",
      "wcwidth          0.2.5\n"
     ]
    }
   ],
   "source": [
    "!pip list"
   ]
  },
  {
   "cell_type": "code",
   "execution_count": 16,
   "metadata": {},
   "outputs": [
    {
     "name": "stdout",
     "output_type": "stream",
     "text": [
      "Collecting pyqt5\n",
      "  Downloading PyQt5-5.15.6-cp36-abi3-win_amd64.whl (6.7 MB)\n",
      "Collecting lxml\n",
      "  Downloading lxml-4.9.1-cp36-cp36m-win_amd64.whl (3.7 MB)\n",
      "Collecting PyQt5-sip<13,>=12.8\n",
      "  Downloading PyQt5_sip-12.9.1-cp36-cp36m-win_amd64.whl (83 kB)\n",
      "Collecting PyQt5-Qt5>=5.15.2\n",
      "  Downloading PyQt5_Qt5-5.15.2-py3-none-win_amd64.whl (50.1 MB)\n",
      "Installing collected packages: PyQt5-sip, PyQt5-Qt5, pyqt5, lxml\n",
      "Successfully installed PyQt5-Qt5-5.15.2 PyQt5-sip-12.9.1 lxml-4.9.1 pyqt5-5.15.6\n"
     ]
    }
   ],
   "source": [
    "!pip install --upgrade pyqt5 lxml"
   ]
  },
  {
   "cell_type": "code",
   "execution_count": 17,
   "metadata": {},
   "outputs": [
    {
     "name": "stdout",
     "output_type": "stream",
     "text": [
      "Package          Version\n",
      "---------------- --------\n",
      "backcall         0.2.0\n",
      "colorama         0.4.5\n",
      "decorator        5.1.1\n",
      "entrypoints      0.4\n",
      "ipykernel        5.5.6\n",
      "ipython          7.16.3\n",
      "ipython-genutils 0.2.0\n",
      "jedi             0.17.2\n",
      "jupyter-client   7.1.2\n",
      "jupyter-core     4.9.2\n",
      "lxml             4.9.1\n",
      "nest-asyncio     1.5.5\n",
      "numpy            1.19.5\n",
      "opencv-python    4.6.0.66\n",
      "parso            0.7.1\n",
      "pickleshare      0.7.5\n",
      "pip              21.3.1\n",
      "prompt-toolkit   3.0.30\n",
      "Pygments         2.12.0\n",
      "PyQt5            5.15.6\n",
      "PyQt5-Qt5        5.15.2\n",
      "PyQt5-sip        12.9.1\n",
      "python-dateutil  2.8.2\n",
      "pywin32          304\n",
      "pyzmq            23.2.0\n",
      "setuptools       40.6.2\n",
      "six              1.16.0\n",
      "tornado          6.1\n",
      "traitlets        4.3.3\n",
      "wcwidth          0.2.5\n"
     ]
    }
   ],
   "source": [
    "!pip list"
   ]
  },
  {
   "cell_type": "markdown",
   "metadata": {},
   "source": [
    "# Path to save label image package"
   ]
  },
  {
   "cell_type": "code",
   "execution_count": 10,
   "metadata": {},
   "outputs": [],
   "source": [
    "LABELIMG_PATH = os.path.join('Tensorflow', 'labelimg')"
   ]
  },
  {
   "cell_type": "code",
   "execution_count": 13,
   "metadata": {},
   "outputs": [
    {
     "data": {
      "text/plain": [
       "'Tensorflow\\\\labelimg'"
      ]
     },
     "execution_count": 13,
     "metadata": {},
     "output_type": "execute_result"
    }
   ],
   "source": [
    "LABELIMG_PATH"
   ]
  },
  {
   "cell_type": "code",
   "execution_count": 14,
   "metadata": {},
   "outputs": [
    {
     "name": "stderr",
     "output_type": "stream",
     "text": [
      "Cloning into 'Tensorflow\\labelimg'...\n"
     ]
    }
   ],
   "source": [
    "if not os.path.exists(LABELIMG_PATH):\n",
    "    !mkdir {LABELIMG_PATH}\n",
    "    !git clone https://github.com/tzutalin/labelImg {LABELIMG_PATH}"
   ]
  },
  {
   "cell_type": "code",
   "execution_count": 15,
   "metadata": {},
   "outputs": [],
   "source": [
    "if os.name == 'posix':\n",
    "    !cd {LABELIMG_PATH} && make qt5py3\n",
    "if os.name =='nt':\n",
    "    !cd {LABELIMG_PATH} && pyrcc5 -o libs/resources.py resources.qrc"
   ]
  },
  {
   "cell_type": "code",
   "execution_count": 16,
   "metadata": {},
   "outputs": [
    {
     "name": "stdout",
     "output_type": "stream",
     "text": [
      "Image:E:\\Studies\\Projects\\Object Detection\\TFODCourse-main\\Tensorflow\\workspace\\images\\collectedimages\\livelong\\livelong.d9d1c41e-01fb-11ed-be6b-54e1adada4af.jpg -> Annotation:E:/Studies/Projects/Object Detection/TFODCourse-main/Tensorflow/workspace/images/collectedimages/livelong\\livelong.d9d1c41e-01fb-11ed-be6b-54e1adada4af.xml\n",
      "Image:E:\\Studies\\Projects\\Object Detection\\TFODCourse-main\\Tensorflow\\workspace\\images\\collectedimages\\livelong\\livelong.d89c7238-01fb-11ed-ac5b-54e1adada4af.jpg -> Annotation:E:/Studies/Projects/Object Detection/TFODCourse-main/Tensorflow/workspace/images/collectedimages/livelong\\livelong.d89c7238-01fb-11ed-ac5b-54e1adada4af.xml\n",
      "Image:E:\\Studies\\Projects\\Object Detection\\TFODCourse-main\\Tensorflow\\workspace\\images\\collectedimages\\livelong\\livelong.db0500a4-01fb-11ed-80c9-54e1adada4af.jpg -> Annotation:E:/Studies/Projects/Object Detection/TFODCourse-main/Tensorflow/workspace/images/collectedimages/livelong\\livelong.db0500a4-01fb-11ed-80c9-54e1adada4af.xml\n",
      "Image:E:\\Studies\\Projects\\Object Detection\\TFODCourse-main\\Tensorflow\\workspace\\images\\collectedimages\\livelong\\livelong.dc3a930a-01fb-11ed-ac56-54e1adada4af.jpg -> Annotation:E:/Studies/Projects/Object Detection/TFODCourse-main/Tensorflow/workspace/images/collectedimages/livelong\\livelong.dc3a930a-01fb-11ed-ac56-54e1adada4af.xml\n",
      "Image:E:\\Studies\\Projects\\Object Detection\\TFODCourse-main\\Tensorflow\\workspace\\images\\collectedimages\\livelong\\livelong.dd703f28-01fb-11ed-b42b-54e1adada4af.jpg -> Annotation:E:/Studies/Projects/Object Detection/TFODCourse-main/Tensorflow/workspace/images/collectedimages/livelong\\livelong.dd703f28-01fb-11ed-b42b-54e1adada4af.xml\n",
      "Image:E:\\Studies\\Projects\\Object Detection\\TFODCourse-main\\Tensorflow\\workspace\\images\\collectedimages\\thankyou\\thankyou.cebbc7ae-01fb-11ed-a04c-54e1adada4af.jpg -> Annotation:E:/Studies/Projects/Object Detection/TFODCourse-main/Tensorflow/workspace/images/collectedimages/thankyou\\thankyou.cebbc7ae-01fb-11ed-a04c-54e1adada4af.xml\n",
      "Image:E:\\Studies\\Projects\\Object Detection\\TFODCourse-main\\Tensorflow\\workspace\\images\\collectedimages\\thankyou\\thankyou.cfefd558-01fb-11ed-8a54-54e1adada4af.jpg -> Annotation:E:/Studies/Projects/Object Detection/TFODCourse-main/Tensorflow/workspace/images/collectedimages/thankyou\\thankyou.cfefd558-01fb-11ed-8a54-54e1adada4af.xml\n",
      "Image:E:\\Studies\\Projects\\Object Detection\\TFODCourse-main\\Tensorflow\\workspace\\images\\collectedimages\\thankyou\\thankyou.d25f1b4c-01fb-11ed-a68a-54e1adada4af.jpg -> Annotation:E:/Studies/Projects/Object Detection/TFODCourse-main/Tensorflow/workspace/images/collectedimages/thankyou\\thankyou.d25f1b4c-01fb-11ed-a68a-54e1adada4af.xml\n",
      "Image:E:\\Studies\\Projects\\Object Detection\\TFODCourse-main\\Tensorflow\\workspace\\images\\collectedimages\\thankyou\\thankyou.d126cf1a-01fb-11ed-9002-54e1adada4af.jpg -> Annotation:E:/Studies/Projects/Object Detection/TFODCourse-main/Tensorflow/workspace/images/collectedimages/thankyou\\thankyou.d126cf1a-01fb-11ed-9002-54e1adada4af.xml\n",
      "Image:E:\\Studies\\Projects\\Object Detection\\TFODCourse-main\\Tensorflow\\workspace\\images\\collectedimages\\thankyou\\thankyou.d392e124-01fb-11ed-b448-54e1adada4af.jpg -> Annotation:E:/Studies/Projects/Object Detection/TFODCourse-main/Tensorflow/workspace/images/collectedimages/thankyou\\thankyou.d392e124-01fb-11ed-b448-54e1adada4af.xml\n",
      "Image:E:\\Studies\\Projects\\Object Detection\\TFODCourse-main\\Tensorflow\\workspace\\images\\collectedimages\\thumbsdown\\thumbsdown.c4e5ba8a-01fb-11ed-8a64-54e1adada4af.jpg -> Annotation:E:/Studies/Projects/Object Detection/TFODCourse-main/Tensorflow/workspace/images/collectedimages/thumbsdown\\thumbsdown.c4e5ba8a-01fb-11ed-8a64-54e1adada4af.xml\n",
      "Cancel creation.\n",
      "Image:E:\\Studies\\Projects\\Object Detection\\TFODCourse-main\\Tensorflow\\workspace\\images\\collectedimages\\thumbsdown\\thumbsdown.c9bbf46e-01fb-11ed-a60e-54e1adada4af.jpg -> Annotation:E:/Studies/Projects/Object Detection/TFODCourse-main/Tensorflow/workspace/images/collectedimages/thumbsdown\\thumbsdown.c9bbf46e-01fb-11ed-a60e-54e1adada4af.xml\n",
      "Cancel creation.\n",
      "Image:E:\\Studies\\Projects\\Object Detection\\TFODCourse-main\\Tensorflow\\workspace\\images\\collectedimages\\thumbsdown\\thumbsdown.c61af288-01fb-11ed-943a-54e1adada4af.jpg -> Annotation:E:/Studies/Projects/Object Detection/TFODCourse-main/Tensorflow/workspace/images/collectedimages/thumbsdown\\thumbsdown.c61af288-01fb-11ed-943a-54e1adada4af.xml\n",
      "Image:E:\\Studies\\Projects\\Object Detection\\TFODCourse-main\\Tensorflow\\workspace\\images\\collectedimages\\thumbsdown\\thumbsdown.c74f5e3a-01fb-11ed-8b61-54e1adada4af.jpg -> Annotation:E:/Studies/Projects/Object Detection/TFODCourse-main/Tensorflow/workspace/images/collectedimages/thumbsdown\\thumbsdown.c74f5e3a-01fb-11ed-8b61-54e1adada4af.xml\n",
      "Image:E:\\Studies\\Projects\\Object Detection\\TFODCourse-main\\Tensorflow\\workspace\\images\\collectedimages\\thumbsdown\\thumbsdown.c88644a8-01fb-11ed-ac60-54e1adada4af.jpg -> Annotation:E:/Studies/Projects/Object Detection/TFODCourse-main/Tensorflow/workspace/images/collectedimages/thumbsdown\\thumbsdown.c88644a8-01fb-11ed-ac60-54e1adada4af.xml\n",
      "Cancel creation.\n",
      "Image:E:\\Studies\\Projects\\Object Detection\\TFODCourse-main\\Tensorflow\\workspace\\images\\collectedimages\\thumbsup\\thumbsup.bb00879a-01fb-11ed-b4d9-54e1adada4af.jpg -> Annotation:E:/Studies/Projects/Object Detection/TFODCourse-main/Tensorflow/workspace/images/collectedimages/thumbsup\\thumbsup.bb00879a-01fb-11ed-b4d9-54e1adada4af.xml\n",
      "Image:E:\\Studies\\Projects\\Object Detection\\TFODCourse-main\\Tensorflow\\workspace\\images\\collectedimages\\thumbsup\\thumbsup.bc3c2cda-01fb-11ed-997d-54e1adada4af.jpg -> Annotation:E:/Studies/Projects/Object Detection/TFODCourse-main/Tensorflow/workspace/images/collectedimages/thumbsup\\thumbsup.bc3c2cda-01fb-11ed-997d-54e1adada4af.xml\n",
      "Image:E:\\Studies\\Projects\\Object Detection\\TFODCourse-main\\Tensorflow\\workspace\\images\\collectedimages\\thumbsup\\thumbsup.bd711cd0-01fb-11ed-96bc-54e1adada4af.jpg -> Annotation:E:/Studies/Projects/Object Detection/TFODCourse-main/Tensorflow/workspace/images/collectedimages/thumbsup\\thumbsup.bd711cd0-01fb-11ed-96bc-54e1adada4af.xml\n",
      "Cancel creation.\n",
      "Image:E:\\Studies\\Projects\\Object Detection\\TFODCourse-main\\Tensorflow\\workspace\\images\\collectedimages\\thumbsup\\thumbsup.bea54ea2-01fb-11ed-ade0-54e1adada4af.jpg -> Annotation:E:/Studies/Projects/Object Detection/TFODCourse-main/Tensorflow/workspace/images/collectedimages/thumbsup\\thumbsup.bea54ea2-01fb-11ed-ade0-54e1adada4af.xml\n",
      "Image:E:\\Studies\\Projects\\Object Detection\\TFODCourse-main\\Tensorflow\\workspace\\images\\collectedimages\\thumbsup\\thumbsup.bfdb0c50-01fb-11ed-9ce9-54e1adada4af.jpg -> Annotation:E:/Studies/Projects/Object Detection/TFODCourse-main/Tensorflow/workspace/images/collectedimages/thumbsup\\thumbsup.bfdb0c50-01fb-11ed-9ce9-54e1adada4af.xml\n"
     ]
    }
   ],
   "source": [
    "!cd {LABELIMG_PATH} && python labelImg.py"
   ]
  },
  {
   "cell_type": "markdown",
   "metadata": {},
   "source": [
    "# 6. Move them into a Training and Testing Partition"
   ]
  },
  {
   "cell_type": "markdown",
   "metadata": {},
   "source": [
    "# OPTIONAL - 7. Compress them for Colab Training"
   ]
  },
  {
   "cell_type": "code",
   "execution_count": 20,
   "metadata": {},
   "outputs": [],
   "source": [
    "TRAIN_PATH = os.path.join('Tensorflow', 'workspace', 'images', 'train')\n",
    "TEST_PATH = os.path.join('Tensorflow', 'workspace', 'images', 'test')\n",
    "ARCHIVE_PATH = os.path.join('Tensorflow', 'workspace', 'images', 'archive.tar.gz')"
   ]
  },
  {
   "cell_type": "code",
   "execution_count": 21,
   "metadata": {},
   "outputs": [],
   "source": [
    "!tar -czf {ARCHIVE_PATH} {TRAIN_PATH} {TEST_PATH}"
   ]
  },
  {
   "cell_type": "code",
   "execution_count": null,
   "metadata": {},
   "outputs": [],
   "source": []
  }
 ],
 "metadata": {
  "kernelspec": {
   "display_name": "tfod",
   "language": "python",
   "name": "tfod"
  },
  "language_info": {
   "codemirror_mode": {
    "name": "ipython",
    "version": 3
   },
   "file_extension": ".py",
   "mimetype": "text/x-python",
   "name": "python",
   "nbconvert_exporter": "python",
   "pygments_lexer": "ipython3",
   "version": "3.6.8"
  }
 },
 "nbformat": 4,
 "nbformat_minor": 2
}
